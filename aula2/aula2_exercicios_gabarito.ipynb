{
  "nbformat": 4,
  "nbformat_minor": 0,
  "metadata": {
    "colab": {
      "provenance": []
    },
    "kernelspec": {
      "name": "python3",
      "display_name": "Python 3"
    },
    "language_info": {
      "name": "python"
    }
  },
  "cells": [
    {
      "cell_type": "markdown",
      "source": [
        "## Exercício 1\n",
        "\n",
        "Crie uma função que recebe um dicionário de produtos e retorne a média ponderada dos preços (sendo os pesos o estoque).\n",
        "\n",
        "Crie uma função que retorne uma lista com o nome dos produtos com preço menor que 300 reais."
      ],
      "metadata": {
        "id": "4Qe_-l-4nK4-"
      }
    },
    {
      "cell_type": "code",
      "execution_count": null,
      "metadata": {
        "id": "tU-j5cNTmM8o"
      },
      "outputs": [],
      "source": [
        "produtos = [\n",
        "    {\"nome\": \"Teclado\", \"preco\": 120, \"estoque\": 50},\n",
        "    {\"nome\": \"Mouse\", \"preco\": 80, \"estoque\": 20},\n",
        "    {\"nome\": \"Monitor\", \"preco\": 900, \"estoque\": 10},\n",
        "    {\"nome\": \"Headset\", \"preco\": 150, \"estoque\": 15},\n",
        "    {\"nome\": \"Webcam\", \"preco\": 200, \"estoque\": 8},\n",
        "    {\"nome\": \"SSD 500GB\", \"preco\": 300, \"estoque\": 25},\n",
        "    {\"nome\": \"Placa de Vídeo\", \"preco\": 2500, \"estoque\": 5},\n",
        "    {\"nome\": \"Memória RAM\", \"preco\": 180, \"estoque\": 30}\n",
        "]\n",
        "\n",
        "def calcular_media_ponderada(produtos):\n",
        "  soma_produtos = 0\n",
        "  soma_estoque = 0\n",
        "\n",
        "  for produto in produtos:\n",
        "    soma_produtos += produto['preco'] * produto['estoque']\n",
        "    soma_estoque += produto['estoque']\n",
        "\n",
        "  return soma_produtos / soma_estoque\n",
        "\n",
        "def produtos_abaixo_300(produtos):\n",
        "  return [produto['nome'] for produto in produtos if produto['preco'] < 300]"
      ]
    },
    {
      "cell_type": "markdown",
      "source": [
        "# Exercício 2\n",
        "\n",
        "Usando dicionários, faça uma função que printa sua string em leetcode:\n",
        "\n",
        "(l33tc0d3 tr0c4 4lgum45 l3tr45 p0r núm3r05, f1c4nd0 4ss1m)\n",
        "\n",
        "* a -> 4\n",
        "* e -> 3\n",
        "* i -> 1\n",
        "* o -> 0\n",
        "* s -> 5"
      ],
      "metadata": {
        "id": "QEbu7oq-n45G"
      }
    },
    {
      "cell_type": "code",
      "source": [
        "mapeamento = {\n",
        "  'a': '4',\n",
        "  'e': '3',\n",
        "  'i': '1',\n",
        "  'o': '0',\n",
        "  's': '5',\n",
        "  'A': '4',\n",
        "  'E': '3',\n",
        "  'I': '1',\n",
        "  'O': '0',\n",
        "  'S': '5'\n",
        "}\n",
        "\n",
        "def leet(texto):\n",
        "  for letra in texto:\n",
        "    if letra in mapeamento:\n",
        "      print(mapeamento[letra], end='')\n",
        "    else:\n",
        "      print(letra, end='')\n",
        "\n",
        "leet(\"Hello, World!\")"
      ],
      "metadata": {
        "colab": {
          "base_uri": "https://localhost:8080/"
        },
        "id": "h0ISxwbuqUxx",
        "outputId": "b392e5d1-1227-4594-e590-c1e1afcccd4f"
      },
      "execution_count": 16,
      "outputs": [
        {
          "output_type": "stream",
          "name": "stdout",
          "text": [
            "H3ll0, W0rld!"
          ]
        }
      ]
    },
    {
      "cell_type": "markdown",
      "source": [
        "## Exercício 3\n",
        "\n",
        "Dado uma lista X de números de 0 até 10 e uma função f(x) qualquer, crie:\n",
        "\n",
        "* Uma lista Y, usando list comprehention, que contém os valores de f(x) para todo elemento de X\n",
        "* Usando a função round() (que arredonda pro inteiro mais próximo), crie um gráfico vertical da sua função, usando *, tipo esse gráfico de x²:\n",
        "\n",
        "```\n",
        "*\n",
        "****\n",
        "*********\n",
        "****************\n",
        "*************************\n",
        "************************************\n",
        "*************************************************\n",
        "****************************************************************\n",
        "*********************************************************************************\n",
        "****************************************************************************************************\n",
        "```\n",
        "\n"
      ],
      "metadata": {
        "id": "2jlndf7yp0-n"
      }
    },
    {
      "cell_type": "code",
      "source": [
        "X = range(11)\n",
        "\n",
        "def f(x):\n",
        "  return x**2\n",
        "\n",
        "Y = [f(x) for x in X]\n",
        "\n",
        "def grafico(y):\n",
        "  for i in y:\n",
        "    print('*' * i)\n",
        "\n",
        "grafico(Y)"
      ],
      "metadata": {
        "colab": {
          "base_uri": "https://localhost:8080/"
        },
        "id": "GUVGqrTJqSUF",
        "outputId": "8051db02-0f70-4c56-ed49-e04ca98fc331"
      },
      "execution_count": 14,
      "outputs": [
        {
          "output_type": "stream",
          "name": "stdout",
          "text": [
            "\n",
            "*\n",
            "****\n",
            "*********\n",
            "****************\n",
            "*************************\n",
            "************************************\n",
            "*************************************************\n",
            "****************************************************************\n",
            "*********************************************************************************\n",
            "****************************************************************************************************\n"
          ]
        }
      ]
    },
    {
      "cell_type": "code",
      "source": [],
      "metadata": {
        "id": "DtzXUb58qyFt"
      },
      "execution_count": null,
      "outputs": []
    }
  ]
}