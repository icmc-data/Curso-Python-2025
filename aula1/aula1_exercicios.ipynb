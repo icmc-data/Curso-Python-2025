{
  "nbformat": 4,
  "nbformat_minor": 0,
  "metadata": {
    "colab": {
      "provenance": []
    },
    "kernelspec": {
      "name": "python3",
      "display_name": "Python 3"
    },
    "language_info": {
      "name": "python"
    }
  },
  "cells": [
    {
      "cell_type": "markdown",
      "source": [
        "# Crie um testador de números primos\n",
        "\n",
        "Entrada: um número $n$\n",
        "\n",
        "Saída: É um primo ou não"
      ],
      "metadata": {
        "id": "H2-MOQM24Fsb"
      }
    },
    {
      "cell_type": "code",
      "execution_count": null,
      "metadata": {
        "colab": {
          "base_uri": "https://localhost:8080/"
        },
        "id": "ini9Q0Dy3_BA",
        "outputId": "65e0f07e-a3ea-4176-af6c-07d838397cbc"
      },
      "outputs": [
        {
          "output_type": "stream",
          "name": "stdout",
          "text": [
            "Digite seu número: 8\n",
            "Não é primo\n"
          ]
        }
      ],
      "source": [
        "n = int(input(\"Digite seu número: \"))\n",
        "\n",
        "while n <= 0:\n",
        "  n = int(input(\"Digite um número maior que 0: \"))\n",
        "\n",
        "for i in range(2, int(n/2)):\n",
        "  if n % i == 0:\n",
        "    print(\"Não é primo\")\n",
        "    break\n",
        "else:\n",
        "  print(\"É primo\")"
      ]
    },
    {
      "cell_type": "markdown",
      "source": [
        "# Crie um jogo de adivinhar o número"
      ],
      "metadata": {
        "id": "ZHim0Ey19yYs"
      }
    },
    {
      "cell_type": "code",
      "source": [
        "numero_secreto = 8\n",
        "\n",
        "tentativa = int(input(\"Digite seu palpite: \"))\n",
        "\n",
        "while tentativa != numero_secreto:\n",
        "  if tentativa > numero_secreto:\n",
        "    print(\"Tente um número menor\")\n",
        "  else:\n",
        "    print(\"Tente um número maior\")\n",
        "\n",
        "  tentativa = int(input(\"Digite seu palpite: \"))\n",
        "\n",
        "print(\"Você acertou!\")"
      ],
      "metadata": {
        "colab": {
          "base_uri": "https://localhost:8080/"
        },
        "id": "OCfxLmfY-k6m",
        "outputId": "999acf0b-03d6-4465-fcae-2816279ea606"
      },
      "execution_count": null,
      "outputs": [
        {
          "output_type": "stream",
          "name": "stdout",
          "text": [
            "Digite seu palpite: 10\n",
            "Tente um número menor\n",
            "Digite seu palpite: 5\n",
            "Tente um número maior\n",
            "Digite seu palpite: -1\n",
            "Tente um número maior\n",
            "Digite seu palpite: 7\n",
            "Tente um número maior\n",
            "Digite seu palpite: 8\n",
            "Você acertou!\n"
          ]
        }
      ]
    },
    {
      "cell_type": "markdown",
      "source": [
        "# Crie um gerador de diamantes\n",
        "\n",
        "Exemplo: entrada = 5\n",
        "\n",
        "Saída:\n",
        "\n",
        "```\n",
        "    *\n",
        "   ***\n",
        "  *****\n",
        " *******\n",
        "*********\n",
        " *******\n",
        "  *****\n",
        "   ***\n",
        "    *\n",
        "\n",
        "```\n",
        "\n"
      ],
      "metadata": {
        "id": "AFSsTsPI--b7"
      }
    },
    {
      "cell_type": "code",
      "source": [
        "n = int(input())\n",
        "\n",
        "for i in range(1, n+1):\n",
        "  print((n-i)*\" \" + (2*i-1)*\"*\")\n",
        "\n",
        "for i in range(1, n):\n",
        "  print(i*\" \" + \"*\" * (2*(n-i)-1))"
      ],
      "metadata": {
        "colab": {
          "base_uri": "https://localhost:8080/"
        },
        "id": "RpIMYcn6_Gdh",
        "outputId": "fde2b4fe-eaac-42cb-8385-c7ad8d78d024"
      },
      "execution_count": null,
      "outputs": [
        {
          "output_type": "stream",
          "name": "stdout",
          "text": [
            "5\n",
            "    *\n",
            "   ***\n",
            "  *****\n",
            " *******\n",
            "*********\n",
            " *******\n",
            "  *****\n",
            "   ***\n",
            "    *\n"
          ]
        }
      ]
    },
    {
      "cell_type": "markdown",
      "source": [
        "#"
      ],
      "metadata": {
        "id": "0cjEP2wKAo85"
      }
    },
    {
      "cell_type": "code",
      "source": [],
      "metadata": {
        "id": "gr-phT0YAnU9"
      },
      "execution_count": null,
      "outputs": []
    }
  ]
}